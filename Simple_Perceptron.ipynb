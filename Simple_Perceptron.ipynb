{
  "nbformat": 4,
  "nbformat_minor": 0,
  "metadata": {
    "colab": {
      "provenance": [],
      "authorship_tag": "ABX9TyMge3BzB/7B5ZR/KRoAokiK",
      "include_colab_link": true
    },
    "kernelspec": {
      "name": "python3",
      "display_name": "Python 3"
    },
    "language_info": {
      "name": "python"
    }
  },
  "cells": [
    {
      "cell_type": "markdown",
      "metadata": {
        "id": "view-in-github",
        "colab_type": "text"
      },
      "source": [
        "<a href=\"https://colab.research.google.com/github/avoKAWO/Deep-Learning-Convolutional-Neural-Networks-Udemy-Course/blob/main/Simple_Perceptron.ipynb\" target=\"_parent\"><img src=\"https://colab.research.google.com/assets/colab-badge.svg\" alt=\"Open In Colab\"/></a>"
      ]
    },
    {
      "cell_type": "markdown",
      "source": [
        "# Simple Neural Network Implementation"
      ],
      "metadata": {
        "id": "8Aj76tHLr9jC"
      }
    },
    {
      "cell_type": "markdown",
      "source": [
        "Perceptron:\n",
        "* 2 variables\n",
        "* 1 hidden layer"
      ],
      "metadata": {
        "id": "b41iJxyczKrq"
      }
    },
    {
      "cell_type": "code",
      "execution_count": 18,
      "metadata": {
        "id": "CH92z3mGr6H4"
      },
      "outputs": [],
      "source": [
        "import numpy as np\n",
        "np.random.seed(0)\n",
        "X = np.array([[1.0, 0.7]])\n",
        "y_true = np.array([1.80])"
      ]
    },
    {
      "cell_type": "code",
      "source": [
        "def initialize_weights(input_size, hidden_size, output_size):\n",
        "  W1 = np.random.randn(hidden_size, input_size)\n",
        "  W2 = np.random.randn(hidden_size, output_size)\n",
        "  return W1, W2"
      ],
      "metadata": {
        "id": "fbX75Svtsxzh"
      },
      "execution_count": 19,
      "outputs": []
    },
    {
      "cell_type": "code",
      "source": [
        "def forward_propagation(X, W1, W2):\n",
        "  H = np.dot(X, W1)\n",
        "  y_pred=np.dot(H, W2)\n",
        "  return H, y_pred"
      ],
      "metadata": {
        "id": "lwR4ut403CNE"
      },
      "execution_count": 25,
      "outputs": []
    },
    {
      "cell_type": "code",
      "source": [
        "def calculate_error(y_true, y_pred):\n",
        "  error = y_pred - y_true\n",
        "  return error"
      ],
      "metadata": {
        "id": "957P4Uc33m3Q"
      },
      "execution_count": 24,
      "outputs": []
    },
    {
      "cell_type": "code",
      "source": [
        "def backward_propagation(X, W1, W2, learning_rate=0.01, max_iterations=1000, precision = 1e-7):\n",
        "  H, y_pred = forward_propagation(X, W1, W2)\n",
        "  for i in range(max_iterations):\n",
        "    error = calculate_error(y_true, y_pred)\n",
        "    W2 = W2 - learning_rate * error * H.T\n",
        "    W1 = W1 - learning_rate * error * X.T * W2.T\n",
        "    _, y_pred = forward_propagation(X, W1, W2)\n",
        "    print('Iter: {}, y_pred: {}, error: {}'.format(i, y_pred[0][0], calculate_error(y_true, y_pred)[0][0]))\n",
        "    if np.abs(error) <= precision:\n",
        "      break\n",
        "  return W1, W2"
      ],
      "metadata": {
        "id": "2QsVqVTs2b3t"
      },
      "execution_count": 30,
      "outputs": []
    },
    {
      "cell_type": "code",
      "source": [
        "def predict(X, W1, W2):\n",
        "  _, y_pred = forward_propagation(X, W1, W2)\n",
        "  return y_pred"
      ],
      "metadata": {
        "id": "QLgUqTMN6osC"
      },
      "execution_count": 27,
      "outputs": []
    },
    {
      "cell_type": "code",
      "source": [
        "def build_model():\n",
        "  # weights initializaion\n",
        "  W1, W2 = initialize_weights(2, 2, 1)\n",
        "  # training\n",
        "  W1, W2 = backward_propagation(X, W1, W2)\n",
        "\n",
        "  model = {'W1': W1, 'W2': W2}\n",
        "  return model"
      ],
      "metadata": {
        "id": "nN7V5113601R"
      },
      "execution_count": 28,
      "outputs": []
    },
    {
      "cell_type": "code",
      "source": [
        "model = build_model()"
      ],
      "metadata": {
        "colab": {
          "base_uri": "https://localhost:8080/"
        },
        "id": "YLdaYbGo7P1W",
        "outputId": "bbfdff39-119c-4348-812a-8fb2afb18412"
      },
      "execution_count": 31,
      "outputs": [
        {
          "output_type": "stream",
          "name": "stdout",
          "text": [
            "Iter: 0, y_pred: 1.2861242753496045, error: -0.5138757246503955\n",
            "Iter: 1, y_pred: 1.361056058985676, error: -0.4389439410143241\n",
            "Iter: 2, y_pred: 1.425179538104591, error: -0.37482046189540896\n",
            "Iter: 3, y_pred: 1.480023723856685, error: -0.31997627614331514\n",
            "Iter: 4, y_pred: 1.5269087034388251, error: -0.2730912965611749\n",
            "Iter: 5, y_pred: 1.566972468258327, error: -0.233027531741673\n",
            "Iter: 6, y_pred: 1.601194657028819, error: -0.19880534297118113\n",
            "Iter: 7, y_pred: 1.630417512619109, error: -0.1695824873808911\n",
            "Iter: 8, y_pred: 1.655364319925987, error: -0.14463568007401295\n",
            "Iter: 9, y_pred: 1.6766555726046652, error: -0.1233444273953348\n",
            "Iter: 10, y_pred: 1.6948231014856665, error: -0.10517689851433354\n",
            "Iter: 11, y_pred: 1.710322383335087, error: -0.08967761666491314\n",
            "Iter: 12, y_pred: 1.7235432338985501, error: -0.07645676610144991\n",
            "Iter: 13, y_pred: 1.7348190736571318, error: -0.0651809263428682\n",
            "Iter: 14, y_pred: 1.7444349386711613, error: -0.05556506132883876\n",
            "Iter: 15, y_pred: 1.752634392719426, error: -0.04736560728057415\n",
            "Iter: 16, y_pred: 1.7596254810812284, error: -0.04037451891877164\n",
            "Iter: 17, y_pred: 1.765585851107927, error: -0.03441414889207306\n",
            "Iter: 18, y_pred: 1.7706671504433005, error: -0.02933284955669957\n",
            "Iter: 19, y_pred: 1.7749988005394726, error: -0.02500119946052748\n",
            "Iter: 20, y_pred: 1.7786912310589877, error: -0.0213087689410123\n",
            "Iter: 21, y_pred: 1.781838649873969, error: -0.01816135012603115\n",
            "Iter: 22, y_pred: 1.784521413645031, error: -0.015478586354969126\n",
            "Iter: 23, y_pred: 1.786808055329944, error: -0.013191944670056133\n",
            "Iter: 24, y_pred: 1.7887570173602603, error: -0.011242982639739774\n",
            "Iter: 25, y_pred: 1.7904181325478201, error: -0.009581867452179926\n",
            "Iter: 26, y_pred: 1.79183388895355, error: -0.008166111046450153\n",
            "Iter: 27, y_pred: 1.793040509879582, error: -0.006959490120417966\n",
            "Iter: 28, y_pred: 1.7940688757479415, error: -0.0059311242520585505\n",
            "Iter: 29, y_pred: 1.7949453108253497, error: -0.005054689174650351\n",
            "Iter: 30, y_pred: 1.795692254471248, error: -0.004307745528752127\n",
            "Iter: 31, y_pred: 1.7963288337588965, error: -0.0036711662411035295\n",
            "Iter: 32, y_pred: 1.796871351888068, error: -0.003128648111932142\n",
            "Iter: 33, y_pred: 1.797333704719855, error: -0.002666295280145059\n",
            "Iter: 34, y_pred: 1.7977277359730968, error: -0.0022722640269032812\n",
            "Iter: 35, y_pred: 1.7980635400870035, error: -0.0019364599129965132\n",
            "Iter: 36, y_pred: 1.7983497204403487, error: -0.0016502795596513575\n",
            "Iter: 37, y_pred: 1.7985936094930919, error: -0.0014063905069081617\n",
            "Iter: 38, y_pred: 1.798801456454667, error: -0.0011985435453329973\n",
            "Iter: 39, y_pred: 1.7989785872612862, error: -0.0010214127387138117\n",
            "Iter: 40, y_pred: 1.7991295409424777, error: -0.0008704590575223659\n",
            "Iter: 41, y_pred: 1.7992581858573757, error: -0.0007418141426243086\n",
            "Iter: 42, y_pred: 1.7993678187693782, error: -0.0006321812306218089\n",
            "Iter: 43, y_pred: 1.7994612492908106, error: -0.0005387507091894062\n",
            "Iter: 44, y_pred: 1.799540871856351, error: -0.00045912814364901244\n",
            "Iter: 45, y_pred: 1.7996087270659227, error: -0.00039127293407736907\n",
            "Iter: 46, y_pred: 1.79966655396631, error: -0.00033344603369012127\n",
            "Iter: 47, y_pred: 1.7997158346094198, error: -0.0002841653905802932\n",
            "Iter: 48, y_pred: 1.7997578320276602, error: -0.00024216797233989062\n",
            "Iter: 49, y_pred: 1.7997936225986666, error: -0.0002063774013334463\n",
            "Iter: 50, y_pred: 1.799824123628071, error: -0.00017587637192906236\n",
            "Iter: 51, y_pred: 1.799850116856704, error: -0.0001498831432960035\n",
            "Iter: 52, y_pred: 1.7998722684942847, error: -0.00012773150571532277\n",
            "Iter: 53, y_pred: 1.7998911462927922, error: -0.00010885370720781218\n",
            "Iter: 54, y_pred: 1.7999072340968705, error: -9.276590312956579e-05\n",
            "Iter: 55, y_pred: 1.799920944244057, error: -7.905575594313596e-05\n",
            "Iter: 56, y_pred: 1.7999326281325323, error: -6.737186746774704e-05\n",
            "Iter: 57, y_pred: 1.79994258522717, error: -5.741477283005558e-05\n",
            "Iter: 58, y_pred: 1.7999510707346627, error: -4.892926533739406e-05\n",
            "Iter: 59, y_pred: 1.7999583021443835, error: -4.169785561658479e-05\n",
            "Iter: 60, y_pred: 1.7999644648026112, error: -3.5535197388858464e-05\n",
            "Iter: 61, y_pred: 1.7999697166629547, error: -3.0283337045355907e-05\n",
            "Iter: 62, y_pred: 1.7999741923347394, error: -2.5807665260613177e-05\n",
            "Iter: 63, y_pred: 1.7999780065330744, error: -2.199346692566273e-05\n",
            "Iter: 64, y_pred: 1.7999812570190454, error: -1.8742980954611355e-05\n",
            "Iter: 65, y_pred: 1.799984027105383, error: -1.5972894616966826e-05\n",
            "Iter: 66, y_pred: 1.7999863877918, error: -1.3612208199953457e-05\n",
            "Iter: 67, y_pred: 1.7999883995847714, error: -1.1600415228629757e-05\n",
            "Iter: 68, y_pred: 1.799990114048347, error: -9.88595165307693e-06\n",
            "Iter: 69, y_pred: 1.799991575125774, error: -8.424874226031775e-06\n",
            "Iter: 70, y_pred: 1.7999928202657962, error: -7.179734203832666e-06\n",
            "Iter: 71, y_pred: 1.7999938813824947, error: -6.118617505324053e-06\n",
            "Iter: 72, y_pred: 1.7999947856732676, error: -5.214326732394525e-06\n",
            "Iter: 73, y_pred: 1.799995556315928, error: -4.443684072041876e-06\n",
            "Iter: 74, y_pred: 1.7999962130627658, error: -3.786937234240284e-06\n",
            "Iter: 75, y_pred: 1.7999967727468156, error: -3.2272531844679264e-06\n",
            "Iter: 76, y_pred: 1.7999972497133063, error: -2.7502866937201276e-06\n",
            "Iter: 77, y_pred: 1.7999976561873363, error: -2.3438126637298495e-06\n",
            "Iter: 78, y_pred: 1.7999980025872202, error: -1.9974127798416674e-06\n",
            "Iter: 79, y_pred: 1.7999982977915128, error: -1.702208487275314e-06\n",
            "Iter: 80, y_pred: 1.7999985493665824, error: -1.4506334176100921e-06\n",
            "Iter: 81, y_pred: 1.7999987637605335, error: -1.2362394665732523e-06\n",
            "Iter: 82, y_pred: 1.7999989464684893, error: -1.0535315106974252e-06\n",
            "Iter: 83, y_pred: 1.7999991021734272, error: -8.978265728654122e-07\n",
            "Iter: 84, y_pred: 1.7999992348662137, error: -7.651337863290308e-07\n",
            "Iter: 85, y_pred: 1.7999993479478902, error: -6.520521098618559e-07\n",
            "Iter: 86, y_pred: 1.7999994443168497, error: -5.556831503827908e-07\n",
            "Iter: 87, y_pred: 1.7999995264431181, error: -4.7355688193029266e-07\n",
            "Iter: 88, y_pred: 1.7999995964316713, error: -4.035683287550995e-07\n",
            "Iter: 89, y_pred: 1.7999996560763831, error: -3.439236169189286e-07\n",
            "Iter: 90, y_pred: 1.7999997069060036, error: -2.9309399640631284e-07\n",
            "Iter: 91, y_pred: 1.7999997502233445, error: -2.4977665558090223e-07\n",
            "Iter: 92, y_pred: 1.7999997871386713, error: -2.1286132878550745e-07\n",
            "Iter: 93, y_pred: 1.7999998185981578, error: -1.8140184221415723e-07\n",
            "Iter: 94, y_pred: 1.7999998454081427, error: -1.5459185731536706e-07\n",
            "Iter: 95, y_pred: 1.79999986825579, error: -1.317442099857402e-07\n",
            "Iter: 96, y_pred: 1.7999998877267065, error: -1.122732935510129e-07\n",
            "Iter: 97, y_pred: 1.799999904319952, error: -9.568004810667219e-08\n",
            "Iter: 98, y_pred: 1.7999999184608266, error: -8.153917341324757e-08\n"
          ]
        }
      ]
    }
  ]
}