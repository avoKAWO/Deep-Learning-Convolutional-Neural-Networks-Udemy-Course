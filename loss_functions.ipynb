{
  "nbformat": 4,
  "nbformat_minor": 0,
  "metadata": {
    "colab": {
      "provenance": [],
      "authorship_tag": "ABX9TyMyPl+ZOEjC/UFXgttqr2uH",
      "include_colab_link": true
    },
    "kernelspec": {
      "name": "python3",
      "display_name": "Python 3"
    },
    "language_info": {
      "name": "python"
    }
  },
  "cells": [
    {
      "cell_type": "markdown",
      "metadata": {
        "id": "view-in-github",
        "colab_type": "text"
      },
      "source": [
        "<a href=\"https://colab.research.google.com/github/avoKAWO/Deep-Learning-Convolutional-Neural-Networks-Udemy-Course/blob/main/loss_functions.ipynb\" target=\"_parent\"><img src=\"https://colab.research.google.com/assets/colab-badge.svg\" alt=\"Open In Colab\"/></a>"
      ]
    },
    {
      "cell_type": "markdown",
      "source": [
        "# Accuracy"
      ],
      "metadata": {
        "id": "C4-LI2ITNbwh"
      }
    },
    {
      "cell_type": "markdown",
      "source": [
        "$Accuracy=\\frac{\\text{correct predictions}}{\\text{total predictions}}*100\\%$"
      ],
      "metadata": {
        "id": "NjGghHS3Ngym"
      }
    },
    {
      "cell_type": "code",
      "execution_count": 1,
      "metadata": {
        "id": "AN8XK2TgNUVh"
      },
      "outputs": [],
      "source": [
        "import numpy as np\n",
        "\n",
        "y_true = np.array([1, 0, 1, 1, 0, 1])\n",
        "y_pred = np.array([0, 0, 1, 1, 0, 1])"
      ]
    },
    {
      "cell_type": "code",
      "source": [
        "def accuracy(y_true, y_pred):\n",
        "  correct = 0\n",
        "  for i in range(len(y_true)):\n",
        "    if y_true[i] == y_pred[i]:\n",
        "      correct +=1\n",
        "  return correct/len(y_true) * 100"
      ],
      "metadata": {
        "id": "ZWPYziIXOwKw"
      },
      "execution_count": 2,
      "outputs": []
    },
    {
      "cell_type": "code",
      "source": [
        "accuracy(y_true, y_pred)"
      ],
      "metadata": {
        "colab": {
          "base_uri": "https://localhost:8080/"
        },
        "id": "dTUlv9_7PSpm",
        "outputId": "323b7d25-9e77-4bce-db15-b7bf3a994782"
      },
      "execution_count": 3,
      "outputs": [
        {
          "output_type": "execute_result",
          "data": {
            "text/plain": [
              "83.33333333333334"
            ]
          },
          "metadata": {},
          "execution_count": 3
        }
      ]
    },
    {
      "cell_type": "markdown",
      "source": [
        "Normally we can use Python libraries instead of writing code to check accuracy every time."
      ],
      "metadata": {
        "id": "y7ownF5hPs39"
      }
    },
    {
      "cell_type": "markdown",
      "source": [
        "# Entropy of the probability distribution"
      ],
      "metadata": {
        "id": "vFOkaVdOPpmW"
      }
    },
    {
      "cell_type": "markdown",
      "source": [
        "$\\text{Entropy} = - ∑_i p_i*log(p_i)$\n"
      ],
      "metadata": {
        "id": "9NWtElqdQPmA"
      }
    },
    {
      "cell_type": "markdown",
      "source": [
        "$p_i$ is the probability of the i-th event occurring. Entropy characterizes the ability of the source to transmit information - otherwise it is a measure of uncertainty or average surprise (expected value of the event)"
      ],
      "metadata": {
        "id": "uHvovpLRRp92"
      }
    },
    {
      "cell_type": "code",
      "source": [
        "def entropy(labels, base=None):\n",
        "  from math import log, e\n",
        "  n_labels=len(labels)\n",
        "\n",
        "  if n_labels <= 1:\n",
        "    return 0\n",
        "\n",
        "  value, counts = np.unique(labels, return_counts=True)\n",
        "  probs = counts / n_labels\n",
        "  n_classes = np.count_nonzero(probs)\n",
        "\n",
        "  if n_classes <= 1:\n",
        "    return 0\n",
        "\n",
        "  ent = 0.0\n",
        "\n",
        "  base = e if base is None else base\n",
        "  for i in probs:\n",
        "    ent -= i*log(i, base)\n",
        "  return ent"
      ],
      "metadata": {
        "id": "QUe-ZXMsQPMS"
      },
      "execution_count": 11,
      "outputs": []
    },
    {
      "cell_type": "code",
      "source": [
        "labels = [1, 3, 5, 2, 3, 5, 3, 2, 1, 3, 4, 5]\n",
        "entropy(labels)"
      ],
      "metadata": {
        "colab": {
          "base_uri": "https://localhost:8080/"
        },
        "id": "MPcCdMklVruE",
        "outputId": "8307abb3-f331-4a90-9e30-4f7e979bd6a4"
      },
      "execution_count": 12,
      "outputs": [
        {
          "output_type": "execute_result",
          "data": {
            "text/plain": [
              "1.5171063970610277"
            ]
          },
          "metadata": {},
          "execution_count": 12
        }
      ]
    },
    {
      "cell_type": "markdown",
      "source": [
        "# Binary Cross-Entropy"
      ],
      "metadata": {
        "id": "mL9YA_eXUv0Q"
      }
    },
    {
      "cell_type": "markdown",
      "source": [
        "$\\text{Binary Cross-Entropy} = -y_\\text{true}*log(y_\\text{pred}) - (1-y_\\text{true})*log(1-y_\\text{pred})$"
      ],
      "metadata": {
        "id": "k2cvP7AtU0ym"
      }
    },
    {
      "cell_type": "code",
      "source": [
        "def binary_crossentropy(y_true, y_pred):\n",
        "  y_pred = np.clip(y_pred, 0.0000001, 1 - 0.0000001)\n",
        "  # To avoid dividing by 0: we add values ​​close to 0 to 0 and subtract values ​​close to 0 from 1\n",
        "  return -y_true * np.log(y_pred) - (1 - y_true) * np.log(1 - y_pred)"
      ],
      "metadata": {
        "id": "tEPSq0zYVua1"
      },
      "execution_count": 17,
      "outputs": []
    },
    {
      "cell_type": "code",
      "source": [
        "binary_crossentropy(y_true, y_pred)"
      ],
      "metadata": {
        "colab": {
          "base_uri": "https://localhost:8080/"
        },
        "id": "WnLmUyugVvkF",
        "outputId": "59aec03b-2fdc-4cef-d987-eeea969cf26a"
      },
      "execution_count": 18,
      "outputs": [
        {
          "output_type": "execute_result",
          "data": {
            "text/plain": [
              "array([1.61180957e+01, 1.00000005e-07, 1.00000005e-07, 1.00000005e-07,\n",
              "       1.00000005e-07, 1.00000005e-07])"
            ]
          },
          "metadata": {},
          "execution_count": 18
        }
      ]
    },
    {
      "cell_type": "markdown",
      "source": [
        "# Categorical Cross-Entropy"
      ],
      "metadata": {
        "id": "-3F__6xjXjcf"
      }
    },
    {
      "cell_type": "markdown",
      "source": [
        "$\\text{Categorical Cross-Entropy}=-∑_iy_\\text{true}*log(y_\\text{pred})$"
      ],
      "metadata": {
        "id": "hzF3teTeXq5x"
      }
    },
    {
      "cell_type": "code",
      "source": [
        "def categorical_crossentropy(y_true, y_pred):\n",
        "  y_pred = np.clip(y_pred, 0.0000001, 1 - 0.0000001)\n",
        "  return -np.sum(y_true*np.log(y_pred))"
      ],
      "metadata": {
        "id": "s_da1iirYCqN"
      },
      "execution_count": 27,
      "outputs": []
    },
    {
      "cell_type": "code",
      "source": [
        "y_true = np.array([1, 0, 0, 0, 0])\n",
        "y_pred = np.array([0.4, 0.3, 0.05, 0.05, 0.2])\n",
        "\n",
        "categorical_crossentropy(y_true, y_pred)"
      ],
      "metadata": {
        "colab": {
          "base_uri": "https://localhost:8080/"
        },
        "id": "9yG2xroQYC_O",
        "outputId": "afe60fe2-6e22-469a-ec19-f42e7d87b4fb"
      },
      "execution_count": 28,
      "outputs": [
        {
          "output_type": "execute_result",
          "data": {
            "text/plain": [
              "0.916290731874155"
            ]
          },
          "metadata": {},
          "execution_count": 28
        }
      ]
    }
  ]
}